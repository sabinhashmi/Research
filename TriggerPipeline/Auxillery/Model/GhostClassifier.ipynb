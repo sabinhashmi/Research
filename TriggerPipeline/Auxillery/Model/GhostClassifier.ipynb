{
 "cells": [
  {
   "cell_type": "code",
   "execution_count": 1,
   "metadata": {},
   "outputs": [],
   "source": [
    "import pandas as pd\n",
    "import numpy as np\n",
    "from catboost import CatBoostClassifier,Pool,cv\n",
    "\n",
    "from sklearn.model_selection import train_test_split\n",
    "from sklearn.metrics import accuracy_score,roc_auc_score,confusion_matrix,f1_score\n",
    "\n",
    "import seaborn as sns\n",
    "import matplotlib.pyplot as plt\n",
    "\n",
    "\n",
    "import warnings\n",
    "warnings.filterwarnings('ignore')\n",
    "\n",
    "from imblearn.over_sampling import SMOTE\n",
    "\n",
    "smote=SMOTE(random_state=17)"
   ]
  },
  {
   "cell_type": "code",
   "execution_count": 2,
   "metadata": {},
   "outputs": [],
   "source": [
    "data=pd.read_parquet('/home/hashmi/Files/DataFolder/02_ParticleBoxData/DownstreamData.parquet')"
   ]
  },
  {
   "cell_type": "code",
   "execution_count": 3,
   "metadata": {},
   "outputs": [
    {
     "data": {
      "text/html": [
       "<div>\n",
       "<style scoped>\n",
       "    .dataframe tbody tr th:only-of-type {\n",
       "        vertical-align: middle;\n",
       "    }\n",
       "\n",
       "    .dataframe tbody tr th {\n",
       "        vertical-align: top;\n",
       "    }\n",
       "\n",
       "    .dataframe thead th {\n",
       "        text-align: right;\n",
       "    }\n",
       "</style>\n",
       "<table border=\"1\" class=\"dataframe\">\n",
       "  <thead>\n",
       "    <tr style=\"text-align: right;\">\n",
       "      <th></th>\n",
       "      <th>track_chi2PerDoF</th>\n",
       "      <th>track_nLHCbIDs</th>\n",
       "      <th>track_p</th>\n",
       "      <th>track_phi</th>\n",
       "      <th>track_position_r</th>\n",
       "      <th>track_position_x</th>\n",
       "      <th>track_position_y</th>\n",
       "      <th>track_pt</th>\n",
       "      <th>track_tx</th>\n",
       "      <th>track_ty</th>\n",
       "      <th>track_pseudoRapidity</th>\n",
       "      <th>Downstream</th>\n",
       "    </tr>\n",
       "  </thead>\n",
       "  <tbody>\n",
       "    <tr>\n",
       "      <th>0</th>\n",
       "      <td>0.070137</td>\n",
       "      <td>12.0</td>\n",
       "      <td>4719.268789</td>\n",
       "      <td>0.503917</td>\n",
       "      <td>760.736764</td>\n",
       "      <td>52.086334</td>\n",
       "      <td>758.951538</td>\n",
       "      <td>931.833411</td>\n",
       "      <td>0.176382</td>\n",
       "      <td>0.097257</td>\n",
       "      <td>2.305510</td>\n",
       "      <td>False</td>\n",
       "    </tr>\n",
       "    <tr>\n",
       "      <th>1</th>\n",
       "      <td>0.825198</td>\n",
       "      <td>11.0</td>\n",
       "      <td>5968.491193</td>\n",
       "      <td>3.117314</td>\n",
       "      <td>750.392212</td>\n",
       "      <td>-750.111389</td>\n",
       "      <td>20.527435</td>\n",
       "      <td>1308.485916</td>\n",
       "      <td>-0.224632</td>\n",
       "      <td>0.005455</td>\n",
       "      <td>2.198532</td>\n",
       "      <td>False</td>\n",
       "    </tr>\n",
       "    <tr>\n",
       "      <th>2</th>\n",
       "      <td>0.415610</td>\n",
       "      <td>12.0</td>\n",
       "      <td>4439.795650</td>\n",
       "      <td>2.678692</td>\n",
       "      <td>894.860060</td>\n",
       "      <td>-242.735580</td>\n",
       "      <td>861.309448</td>\n",
       "      <td>1041.913541</td>\n",
       "      <td>-0.216011</td>\n",
       "      <td>0.107804</td>\n",
       "      <td>2.128635</td>\n",
       "      <td>False</td>\n",
       "    </tr>\n",
       "    <tr>\n",
       "      <th>3</th>\n",
       "      <td>0.380737</td>\n",
       "      <td>11.0</td>\n",
       "      <td>2672.354020</td>\n",
       "      <td>0.031277</td>\n",
       "      <td>592.861337</td>\n",
       "      <td>580.054932</td>\n",
       "      <td>122.559540</td>\n",
       "      <td>962.754168</td>\n",
       "      <td>0.386009</td>\n",
       "      <td>0.012077</td>\n",
       "      <td>1.679913</td>\n",
       "      <td>False</td>\n",
       "    </tr>\n",
       "    <tr>\n",
       "      <th>4</th>\n",
       "      <td>0.637376</td>\n",
       "      <td>11.0</td>\n",
       "      <td>2802.582602</td>\n",
       "      <td>0.028834</td>\n",
       "      <td>943.479884</td>\n",
       "      <td>937.996155</td>\n",
       "      <td>101.575119</td>\n",
       "      <td>1098.949728</td>\n",
       "      <td>0.426080</td>\n",
       "      <td>0.012289</td>\n",
       "      <td>1.588467</td>\n",
       "      <td>False</td>\n",
       "    </tr>\n",
       "  </tbody>\n",
       "</table>\n",
       "</div>"
      ],
      "text/plain": [
       "   track_chi2PerDoF  track_nLHCbIDs      track_p  track_phi  track_position_r  \\\n",
       "0          0.070137            12.0  4719.268789   0.503917        760.736764   \n",
       "1          0.825198            11.0  5968.491193   3.117314        750.392212   \n",
       "2          0.415610            12.0  4439.795650   2.678692        894.860060   \n",
       "3          0.380737            11.0  2672.354020   0.031277        592.861337   \n",
       "4          0.637376            11.0  2802.582602   0.028834        943.479884   \n",
       "\n",
       "   track_position_x  track_position_y     track_pt  track_tx  track_ty  \\\n",
       "0         52.086334        758.951538   931.833411  0.176382  0.097257   \n",
       "1       -750.111389         20.527435  1308.485916 -0.224632  0.005455   \n",
       "2       -242.735580        861.309448  1041.913541 -0.216011  0.107804   \n",
       "3        580.054932        122.559540   962.754168  0.386009  0.012077   \n",
       "4        937.996155        101.575119  1098.949728  0.426080  0.012289   \n",
       "\n",
       "   track_pseudoRapidity  Downstream  \n",
       "0              2.305510       False  \n",
       "1              2.198532       False  \n",
       "2              2.128635       False  \n",
       "3              1.679913       False  \n",
       "4              1.588467       False  "
      ]
     },
     "execution_count": 3,
     "metadata": {},
     "output_type": "execute_result"
    }
   ],
   "source": [
    "data=data.drop(['track_charge'],axis=1)\n",
    "data.head()"
   ]
  },
  {
   "cell_type": "code",
   "execution_count": 4,
   "metadata": {},
   "outputs": [],
   "source": [
    "# sample=data.sample(frac=0.1,random_state=46)\n",
    "sample=data.copy()"
   ]
  },
  {
   "cell_type": "code",
   "execution_count": 5,
   "metadata": {},
   "outputs": [],
   "source": [
    "x=sample.drop(['Downstream',],axis=1)\n",
    "y=sample['Downstream'].map({True:1,False:0})"
   ]
  },
  {
   "cell_type": "code",
   "execution_count": 6,
   "metadata": {},
   "outputs": [
    {
     "data": {
      "application/vnd.jupyter.widget-view+json": {
       "model_id": "ced3292da24942f692ca1821b5507621",
       "version_major": 2,
       "version_minor": 0
      },
      "text/plain": [
       "MetricVisualizer(layout=Layout(align_self='stretch', height='500px'))"
      ]
     },
     "metadata": {},
     "output_type": "display_data"
    },
    {
     "name": "stdout",
     "output_type": "stream",
     "text": [
      "Learning rate set to 0.313459\n",
      "0:\ttest: 0.8163822\tbest: 0.8163822 (0)\ttotal: 951ms\tremaining: 15m 50s\n",
      "100:\ttest: 0.8768473\tbest: 0.8768473 (100)\ttotal: 1m 23s\tremaining: 12m 19s\n",
      "200:\ttest: 0.8852360\tbest: 0.8852360 (200)\ttotal: 2m 42s\tremaining: 10m 46s\n",
      "300:\ttest: 0.8887527\tbest: 0.8887527 (300)\ttotal: 4m 3s\tremaining: 9m 24s\n",
      "400:\ttest: 0.8909142\tbest: 0.8909142 (400)\ttotal: 5m 23s\tremaining: 8m 2s\n",
      "500:\ttest: 0.8922518\tbest: 0.8922518 (500)\ttotal: 6m 44s\tremaining: 6m 42s\n",
      "600:\ttest: 0.8933297\tbest: 0.8933297 (600)\ttotal: 8m 5s\tremaining: 5m 22s\n",
      "700:\ttest: 0.8940917\tbest: 0.8940917 (700)\ttotal: 9m 26s\tremaining: 4m 1s\n",
      "800:\ttest: 0.8947070\tbest: 0.8947070 (800)\ttotal: 10m 47s\tremaining: 2m 40s\n",
      "900:\ttest: 0.8952840\tbest: 0.8952840 (900)\ttotal: 12m 9s\tremaining: 1m 20s\n",
      "999:\ttest: 0.8957439\tbest: 0.8957439 (999)\ttotal: 13m 30s\tremaining: 0us\n",
      "\n",
      "bestTest = 0.8957439243\n",
      "bestIteration = 999\n",
      "\n",
      "Accuracy Score : 0.803299266597068, ROC AUC Score : 0.803299266597068, F1 Score : 0.7983750692569066\n"
     ]
    }
   ],
   "source": [
    "x,y=smote.fit_resample(x,y)\n",
    "x_train,x_test,y_train,y_test=train_test_split(x,y,shuffle=True,stratify=y,random_state=29,test_size=0.3)\n",
    "train_data=Pool(data=x_train,label=y_train)\n",
    "test_data=Pool(data=x_test,label=y_test)\n",
    "model=CatBoostClassifier(eval_metric='AUC',verbose=100,thread_count=10)\n",
    "\n",
    "model.fit(x_train,y_train,eval_set=(x_test,y_test),plot=True,use_best_model=True)\n",
    "y_predict=model.predict(x_test)\n",
    "print(\"Accuracy Score : {}, ROC AUC Score : {}, F1 Score : {}\".format(accuracy_score(y_test,y_predict),roc_auc_score(y_test,y_predict),f1_score(y_test,y_predict)))"
   ]
  },
  {
   "cell_type": "code",
   "execution_count": 7,
   "metadata": {},
   "outputs": [],
   "source": [
    "model.save_model(\"./GhostClassifier.cpp\",format=\"cpp\",pool=train_data)"
   ]
  },
  {
   "cell_type": "code",
   "execution_count": 8,
   "metadata": {},
   "outputs": [
    {
     "data": {
      "image/png": "[encoded data removed]",
      "text/plain": [
       "<Figure size 1296x576 with 1 Axes>"
      ]
     },
     "metadata": {
      "needs_background": "light"
     },
     "output_type": "display_data"
    }
   ],
   "source": [
    "plt.figure(figsize=(18,8))\n",
    "sns.barplot(x=x.columns,y=model.get_feature_importance())\n",
    "plt.show()"
   ]
  },
  {
   "cell_type": "code",
   "execution_count": 18,
   "metadata": {},
   "outputs": [
    {
     "data": {
      "image/png": "[encoded data removed]",
      "text/plain": [
       "<Figure size 864x576 with 2 Axes>"
      ]
     },
     "metadata": {
      "needs_background": "light"
     },
     "output_type": "display_data"
    }
   ],
   "source": [
    "plt.figure(figsize=(12,8))\n",
    "sns.heatmap(confusion_matrix(y_test,y_predict),cmap='Greens',annot=True,fmt='d',xticklabels=['GhostTrack-Actual','TrueTrack-Actual'],yticklabels=['GhostTrack-Predicted','TrueTrack-Predicted'],annot_kws={'fontsize':12})\n",
    "plt.show()"
   ]
  },
  {
   "cell_type": "code",
   "execution_count": 20,
   "metadata": {},
   "outputs": [
    {
     "data": {
      "image/png": "[encoded data removed]",
      "text/plain": [
       "<Figure size 864x576 with 1 Axes>"
      ]
     },
     "metadata": {
      "needs_background": "light"
     },
     "output_type": "display_data"
    }
   ],
   "source": [
    "import sklearn.metrics as metrics\n",
    "# calculate the fpr and tpr for all thresholds of the classification\n",
    "probs = model.predict_proba(x_test)\n",
    "preds = probs[:,1]\n",
    "fpr, tpr, threshold = metrics.roc_curve(y_test, preds)\n",
    "roc_auc = metrics.auc(fpr, tpr)\n",
    "\n",
    "# method I: plt\n",
    "import matplotlib.pyplot as plt\n",
    "plt.figure(figsize=(12,8))\n",
    "plt.title('ROC Curve')\n",
    "plt.plot(fpr, tpr, 'b', label = 'AUC = %0.2f' % roc_auc)\n",
    "plt.legend(loc = 'lower right')\n",
    "plt.plot([0, 1], [0, 1],'r--')\n",
    "plt.xlim([0, 1])\n",
    "plt.ylim([0, 1])\n",
    "plt.ylabel('True Positive Rate')\n",
    "plt.xlabel('False Positive Rate')\n",
    "plt.show()"
   ]
  },
  {
   "cell_type": "code",
   "execution_count": null,
   "metadata": {},
   "outputs": [],
   "source": []
  }
 ],
 "metadata": {
  "interpreter": {
   "hash": "f0b5704e0753844c914e694f858654540ae357911934d72da4d907f6643f065e"
  },
  "kernelspec": {
   "display_name": "Python 3.8.13 ('remote')",
   "language": "python",
   "name": "python3"
  },
  "language_info": {
   "codemirror_mode": {
    "name": "ipython",
    "version": 3
   },
   "file_extension": ".py",
   "mimetype": "text/x-python",
   "name": "python",
   "nbconvert_exporter": "python",
   "pygments_lexer": "ipython3",
   "version": "3.8.13"
  },
  "orig_nbformat": 4
 },
 "nbformat": 4,
 "nbformat_minor": 2
}
